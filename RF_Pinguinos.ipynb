{
  "nbformat": 4,
  "nbformat_minor": 0,
  "metadata": {
    "colab": {
      "provenance": []
    },
    "kernelspec": {
      "name": "python3",
      "display_name": "Python 3"
    },
    "language_info": {
      "name": "python"
    }
  },
  "cells": [
    {
      "cell_type": "code",
      "execution_count": 2,
      "metadata": {
        "colab": {
          "base_uri": "https://localhost:8080/"
        },
        "id": "CpP-2SnNJVLw",
        "outputId": "198b0368-b223-4549-b00c-7fc013d6dced"
      },
      "outputs": [
        {
          "output_type": "stream",
          "name": "stdout",
          "text": [
            "   culmen_length_mm  culmen_depth_mm  flipper_length_mm  body_mass_g  sex_id  \\\n",
            "0          0.254545         0.666667           0.152542     0.291667     1.0   \n",
            "1          0.269091         0.511905           0.237288     0.305556     0.0   \n",
            "2          0.298182         0.583333           0.389831     0.152778     0.0   \n",
            "3          0.167273         0.738095           0.355932     0.208333     0.0   \n",
            "4          0.261818         0.892857           0.305085     0.263889     1.0   \n",
            "\n",
            "   species_id  island_id  \n",
            "0           0        1.0  \n",
            "1           0        1.0  \n",
            "2           0        1.0  \n",
            "3           0        1.0  \n",
            "4           0        1.0  \n"
          ]
        }
      ],
      "source": [
        "# prompt: Lee como dataframe el archivo csv\n",
        "\n",
        "import pandas as pd\n",
        "\n",
        "df = pd.read_csv('/content/pinguinos_limpios_codificados_normalizados.csv')\n",
        "print(df.head())\n"
      ]
    },
    {
      "cell_type": "code",
      "source": [
        "# prompt: usa train test split para separar el df\n",
        "\n",
        "from sklearn.model_selection import train_test_split\n",
        "\n",
        "# Supongamos que 'target_column' es el nombre de la columna que quieres predecir\n",
        "df1 = df.copy()\n",
        "X = df1.drop('species_id', axis=1)\n",
        "y = df['species_id']\n",
        "\n",
        "X_train, X_test, y_train, y_test = train_test_split(X, y, test_size=0.2, random_state=42, stratify=y)\n",
        "\n",
        "print(\"X_train shape:\", X_train.shape)\n",
        "print(\"X_test shape:\", X_test.shape)\n",
        "print(\"y_train shape:\", y_train.shape)\n",
        "print(\"y_test shape:\", y_test.shape)\n"
      ],
      "metadata": {
        "colab": {
          "base_uri": "https://localhost:8080/"
        },
        "id": "NGgoaDetJpKS",
        "outputId": "317f3bc0-3bdc-47c5-d7c7-b778b2cfdd2e"
      },
      "execution_count": 3,
      "outputs": [
        {
          "output_type": "stream",
          "name": "stdout",
          "text": [
            "X_train shape: (266, 6)\n",
            "X_test shape: (67, 6)\n",
            "y_train shape: (266,)\n",
            "y_test shape: (67,)\n"
          ]
        }
      ]
    },
    {
      "cell_type": "code",
      "source": [
        "# prompt: arma un modelo de random forest\n",
        "\n",
        "import pandas as pd\n",
        "from sklearn.model_selection import train_test_split\n",
        "from sklearn.ensemble import RandomForestClassifier\n",
        "from sklearn.metrics import accuracy_score\n",
        "\n",
        "# ... (código anterior que defines X_train, X_test, y_train, y_test) ...\n",
        "\n",
        "# Crea un modelo de Random Forest\n",
        "model = RandomForestClassifier(n_estimators=100, random_state=42)\n",
        "\n",
        "# Entrena el modelo con los datos de entrenamiento\n",
        "model.fit(X_train, y_train)\n",
        "\n",
        "# Realiza predicciones con los datos de prueba\n",
        "y_pred = model.predict(X_test)\n",
        "\n",
        "# Evalúa el rendimiento del modelo (puedes usar otras métricas también)\n",
        "accuracy = accuracy_score(y_test, y_pred)\n",
        "print(\"Accuracy:\", accuracy)\n"
      ],
      "metadata": {
        "colab": {
          "base_uri": "https://localhost:8080/"
        },
        "id": "FoAuYswcJ5Ci",
        "outputId": "f32355f0-ac3f-4272-de93-75365c4f19cc"
      },
      "execution_count": 4,
      "outputs": [
        {
          "output_type": "stream",
          "name": "stdout",
          "text": [
            "Accuracy: 1.0\n"
          ]
        }
      ]
    },
    {
      "cell_type": "code",
      "source": [
        "# prompt: Evalua el modelo con accuracy, precision, f1 y recall para cada especie\n",
        "\n",
        "from sklearn.metrics import accuracy_score, precision_score, recall_score, f1_score\n",
        "from sklearn.metrics import classification_report\n",
        "\n",
        "# Evaluar el modelo con accuracy, precision, f1 y recall para cada especie\n",
        "print(classification_report(y_test, y_pred))\n",
        "\n",
        "# Puedes calcular métricas individuales para cada clase si lo necesitas\n",
        "# Por ejemplo, para la precisión de la clase 0:\n",
        "# precision_class_0 = precision_score(y_test, y_pred, average=None)[0]\n",
        "# print(\"Precisión para la clase 0:\", precision_class_0)"
      ],
      "metadata": {
        "colab": {
          "base_uri": "https://localhost:8080/"
        },
        "id": "WLv4_unnKkYk",
        "outputId": "61f2ee54-ee07-4326-dc42-0262dc3c2f3d"
      },
      "execution_count": 5,
      "outputs": [
        {
          "output_type": "stream",
          "name": "stdout",
          "text": [
            "              precision    recall  f1-score   support\n",
            "\n",
            "           0       1.00      1.00      1.00        29\n",
            "           1       1.00      1.00      1.00        14\n",
            "           2       1.00      1.00      1.00        24\n",
            "\n",
            "    accuracy                           1.00        67\n",
            "   macro avg       1.00      1.00      1.00        67\n",
            "weighted avg       1.00      1.00      1.00        67\n",
            "\n"
          ]
        }
      ]
    },
    {
      "cell_type": "code",
      "source": [
        "# prompt: Evalua el modelo con accuracy, precision, f1 y recall\n",
        "\n",
        "from sklearn.metrics import accuracy_score, precision_score, recall_score, f1_score\n",
        "\n",
        "# Calcula la precisión del modelo\n",
        "accuracy = accuracy_score(y_test, y_pred)\n",
        "print(\"Accuracy:\", accuracy)\n",
        "\n",
        "# Calcula la precisión (precision) del modelo\n",
        "precision = precision_score(y_test, y_pred, average='weighted')\n",
        "print(\"Precision:\", precision)\n",
        "\n",
        "# Calcula la exhaustividad (recall) del modelo\n",
        "recall = recall_score(y_test, y_pred, average='weighted')\n",
        "print(\"Recall:\", recall)\n",
        "\n",
        "# Calcula la puntuación F1 del modelo\n",
        "f1 = f1_score(y_test, y_pred, average='weighted')\n",
        "print(\"F1 Score:\", f1)\n"
      ],
      "metadata": {
        "colab": {
          "base_uri": "https://localhost:8080/"
        },
        "id": "_M60_HQ8KwNB",
        "outputId": "9990c982-f069-4fc8-da4f-9437b12487c4"
      },
      "execution_count": 6,
      "outputs": [
        {
          "output_type": "stream",
          "name": "stdout",
          "text": [
            "Accuracy: 1.0\n",
            "Precision: 1.0\n",
            "Recall: 1.0\n",
            "F1 Score: 1.0\n"
          ]
        }
      ]
    },
    {
      "cell_type": "code",
      "source": [
        "# prompt: arma una matriz de confusion para las especies\n",
        "\n",
        "from sklearn.metrics import confusion_matrix\n",
        "import numpy as np\n",
        "\n",
        "# Calcula la matriz de confusión\n",
        "cm = confusion_matrix(y_test, y_pred)\n",
        "\n",
        "# Imprime la matriz de confusión\n",
        "print(\"Matriz de Confusión:\")\n",
        "print(cm)\n",
        "\n",
        "# Puedes visualizar la matriz de confusión con un mapa de calor usando seaborn\n",
        "import seaborn as sns\n",
        "import matplotlib.pyplot as plt\n",
        "\n",
        "plt.figure(figsize=(8, 6))\n",
        "sns.heatmap(cm, annot=True, fmt=\"d\", cmap=\"Blues\",\n",
        "            xticklabels=np.unique(y), yticklabels=np.unique(y))\n",
        "plt.xlabel(\"Predicciones\")\n",
        "plt.ylabel(\"Valores Reales\")\n",
        "plt.title(\"Matriz de Confusión\")\n",
        "plt.show()\n"
      ],
      "metadata": {
        "colab": {
          "base_uri": "https://localhost:8080/",
          "height": 633
        },
        "id": "wU0yZgfEK0XZ",
        "outputId": "38303b9e-fe46-4bf2-fb7e-5a0314aaffd0"
      },
      "execution_count": 7,
      "outputs": [
        {
          "output_type": "stream",
          "name": "stdout",
          "text": [
            "Matriz de Confusión:\n",
            "[[29  0  0]\n",
            " [ 0 14  0]\n",
            " [ 0  0 24]]\n"
          ]
        },
        {
          "output_type": "display_data",
          "data": {
            "text/plain": [
              "<Figure size 800x600 with 2 Axes>"
            ],
            "image/png": "[encoded data removed]"
          },
          "metadata": {}
        }
      ]
    }
  ]
}