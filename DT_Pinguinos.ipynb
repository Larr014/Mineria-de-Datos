{
  "nbformat": 4,
  "nbformat_minor": 0,
  "metadata": {
    "colab": {
      "provenance": []
    },
    "kernelspec": {
      "name": "python3",
      "display_name": "Python 3"
    },
    "language_info": {
      "name": "python"
    }
  },
  "cells": [
    {
      "cell_type": "code",
      "execution_count": 23,
      "metadata": {
        "colab": {
          "base_uri": "https://localhost:8080/"
        },
        "id": "I2WS39DYJWKu",
        "outputId": "1a977a5d-66ab-4aa7-ecf6-11f95321b48e"
      },
      "outputs": [
        {
          "output_type": "stream",
          "name": "stdout",
          "text": [
            "   culmen_length_mm  culmen_depth_mm  flipper_length_mm  body_mass_g  sex_id  \\\n",
            "0          0.254545         0.666667           0.152542     0.291667     1.0   \n",
            "1          0.269091         0.511905           0.237288     0.305556     0.0   \n",
            "2          0.298182         0.583333           0.389831     0.152778     0.0   \n",
            "3          0.167273         0.738095           0.355932     0.208333     0.0   \n",
            "4          0.261818         0.892857           0.305085     0.263889     1.0   \n",
            "\n",
            "   species_id  island_id  \n",
            "0           0        1.0  \n",
            "1           0        1.0  \n",
            "2           0        1.0  \n",
            "3           0        1.0  \n",
            "4           0        1.0  \n"
          ]
        }
      ],
      "source": [
        "# prompt: Lee como dataframe el archivo csv\n",
        "\n",
        "import pandas as pd\n",
        "\n",
        "df = pd.read_csv('/content/pinguinos_limpios_codificados_normalizados.csv')\n",
        "print(df.head())\n"
      ]
    },
    {
      "cell_type": "code",
      "source": [
        "# prompt: usa train test split para separar el df\n",
        "\n",
        "from sklearn.model_selection import train_test_split\n",
        "\n",
        "# Supongamos que 'target_column' es el nombre de la columna que quieres predecir\n",
        "df1 = df.copy()\n",
        "X = df1.drop('species_id', axis=1)\n",
        "y = df['species_id']\n",
        "\n",
        "X_train, X_test, y_train, y_test = train_test_split(X, y, test_size=0.2, random_state=42, stratify=y)\n",
        "\n",
        "print(\"X_train shape:\", X_train.shape)\n",
        "print(\"X_test shape:\", X_test.shape)\n",
        "print(\"y_train shape:\", y_train.shape)\n",
        "print(\"y_test shape:\", y_test.shape)\n"
      ],
      "metadata": {
        "colab": {
          "base_uri": "https://localhost:8080/"
        },
        "id": "OHdQdtJMKqVX",
        "outputId": "9b04ff7f-557a-4cfb-b45c-c8c94d959687"
      },
      "execution_count": 24,
      "outputs": [
        {
          "output_type": "stream",
          "name": "stdout",
          "text": [
            "X_train shape: (266, 6)\n",
            "X_test shape: (67, 6)\n",
            "y_train shape: (266,)\n",
            "y_test shape: (67,)\n"
          ]
        }
      ]
    },
    {
      "cell_type": "code",
      "source": [
        "# prompt: arma un arbol de decision usando scikit learn para clasificar\n",
        "\n",
        "from sklearn.tree import DecisionTreeClassifier\n",
        "from sklearn.metrics import accuracy_score\n",
        "\n",
        "# Crea una instancia del clasificador de árbol de decisión\n",
        "tree_classifier = DecisionTreeClassifier()\n",
        "\n",
        "# Entrena el modelo con los datos de entrenamiento\n",
        "tree_classifier.fit(X_train, y_train)\n",
        "\n",
        "# Realiza predicciones en los datos de prueba\n",
        "y_pred = tree_classifier.predict(X_test)\n",
        "\n",
        "\n"
      ],
      "metadata": {
        "id": "OEZts_6bMFBM"
      },
      "execution_count": 25,
      "outputs": []
    },
    {
      "cell_type": "code",
      "source": [
        "# prompt: Evalua el modelo con accuracy, precision, f1 y recall para cada especie\n",
        "\n",
        "from sklearn.metrics import accuracy_score, precision_score, recall_score, f1_score\n",
        "from sklearn.metrics import classification_report\n",
        "\n",
        "# Evaluar el modelo con accuracy, precision, f1 y recall para cada especie\n",
        "print(classification_report(y_test, y_pred))\n",
        "\n",
        "# Puedes calcular métricas individuales para cada clase si lo necesitas\n",
        "# Por ejemplo, para la precisión de la clase 0:\n",
        "# precision_class_0 = precision_score(y_test, y_pred, average=None)[0]\n",
        "# print(\"Precisión para la clase 0:\", precision_class_0)\n"
      ],
      "metadata": {
        "colab": {
          "base_uri": "https://localhost:8080/"
        },
        "id": "f19d0sUERgCl",
        "outputId": "101a891b-4c34-4e61-a932-7760b35a13c2"
      },
      "execution_count": 28,
      "outputs": [
        {
          "output_type": "stream",
          "name": "stdout",
          "text": [
            "              precision    recall  f1-score   support\n",
            "\n",
            "           0       0.97      0.97      0.97        29\n",
            "           1       0.88      1.00      0.93        14\n",
            "           2       1.00      0.92      0.96        24\n",
            "\n",
            "    accuracy                           0.96        67\n",
            "   macro avg       0.95      0.96      0.95        67\n",
            "weighted avg       0.96      0.96      0.96        67\n",
            "\n"
          ]
        }
      ]
    },
    {
      "cell_type": "code",
      "source": [
        "# prompt: Evalua el modelo con accuracy, precision, f1 y recall\n",
        "\n",
        "from sklearn.metrics import accuracy_score, precision_score, recall_score, f1_score\n",
        "\n",
        "# Calcula la precisión del modelo\n",
        "accuracy = accuracy_score(y_test, y_pred)\n",
        "print(\"Accuracy:\", accuracy)\n",
        "\n",
        "# Calcula la precisión (precision) del modelo\n",
        "precision = precision_score(y_test, y_pred, average='weighted')\n",
        "print(\"Precision:\", precision)\n",
        "\n",
        "# Calcula la exhaustividad (recall) del modelo\n",
        "recall = recall_score(y_test, y_pred, average='weighted')\n",
        "print(\"Recall:\", recall)\n",
        "\n",
        "# Calcula la puntuación F1 del modelo\n",
        "f1 = f1_score(y_test, y_pred, average='weighted')\n",
        "print(\"F1 Score:\", f1)\n"
      ],
      "metadata": {
        "colab": {
          "base_uri": "https://localhost:8080/"
        },
        "id": "xvVemM5NMpzD",
        "outputId": "e56386cf-87e5-4b0b-98db-fbdf4ad923b1"
      },
      "execution_count": 26,
      "outputs": [
        {
          "output_type": "stream",
          "name": "stdout",
          "text": [
            "Accuracy: 0.9552238805970149\n",
            "Precision: 0.9589552238805971\n",
            "Recall: 0.9552238805970149\n",
            "F1 Score: 0.9555699762059269\n"
          ]
        }
      ]
    },
    {
      "cell_type": "code",
      "source": [
        "# prompt: arma una matriz de confusion para las especies\n",
        "\n",
        "from sklearn.metrics import confusion_matrix\n",
        "import numpy as np\n",
        "\n",
        "# Calcula la matriz de confusión\n",
        "cm = confusion_matrix(y_test, y_pred)\n",
        "\n",
        "# Imprime la matriz de confusión\n",
        "print(\"Matriz de Confusión:\")\n",
        "print(cm)\n",
        "\n",
        "# Puedes visualizar la matriz de confusión con un mapa de calor usando seaborn\n",
        "import seaborn as sns\n",
        "import matplotlib.pyplot as plt\n",
        "\n",
        "plt.figure(figsize=(8, 6))\n",
        "sns.heatmap(cm, annot=True, fmt=\"d\", cmap=\"Blues\",\n",
        "            xticklabels=np.unique(y), yticklabels=np.unique(y))\n",
        "plt.xlabel(\"Predicciones\")\n",
        "plt.ylabel(\"Valores Reales\")\n",
        "plt.title(\"Matriz de Confusión\")\n",
        "plt.show()\n"
      ],
      "metadata": {
        "colab": {
          "base_uri": "https://localhost:8080/",
          "height": 633
        },
        "id": "bLMHHIt8NcQI",
        "outputId": "aa8a916f-6b45-4525-cb56-476a8d906882"
      },
      "execution_count": 27,
      "outputs": [
        {
          "output_type": "stream",
          "name": "stdout",
          "text": [
            "Matriz de Confusión:\n",
            "[[28  1  0]\n",
            " [ 0 14  0]\n",
            " [ 1  1 22]]\n"
          ]
        },
        {
          "output_type": "display_data",
          "data": {
            "text/plain": [
              "<Figure size 800x600 with 2 Axes>"
            ],
            "image/png": "[encoded data removed]"
          },
          "metadata": {}
        }
      ]
    }
  ]
}